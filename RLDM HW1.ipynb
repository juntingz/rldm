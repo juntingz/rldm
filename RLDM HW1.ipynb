{
 "cells": [
  {
   "cell_type": "code",
   "execution_count": 5,
   "metadata": {
    "collapsed": false
   },
   "outputs": [],
   "source": [
    "import mdptoolbox\n",
    "import numpy as np"
   ]
  },
  {
   "cell_type": "code",
   "execution_count": 82,
   "metadata": {
    "collapsed": true
   },
   "outputs": [],
   "source": [
    "N=16\n",
    "isBadSide=[0,0,0,1,1,0,1,1,0,0,1,0,0,1,0,1,]"
   ]
  },
  {
   "cell_type": "code",
   "execution_count": 83,
   "metadata": {
    "collapsed": false
   },
   "outputs": [
    {
     "name": "stdout",
     "output_type": "stream",
     "text": [
      "WARNING: check conditions of convergence. With no discount, convergence can not be assumed.\n"
     ]
    },
    {
     "data": {
      "text/plain": [
       "5.385675273835659"
      ]
     },
     "execution_count": 83,
     "metadata": {},
     "output_type": "execute_result"
    }
   ],
   "source": [
    "\n",
    "# assuming from x onwards, all states will not continue play. \n",
    "\n",
    "# Thus at state x, x > sum(V(x+k)/1/n for k not in badside) =  sum(x+k for k not in badside) / n\n",
    "sum((np.arange(N)+1) * isBadSide)/N / (1.0- 1. *sum(isBadSide)/N)\n",
    "\n",
    "# in this example, this number should be 7.6363636363636358\n",
    "# meaning for any state from 7 onwards, it will go to exit state\n",
    "#states: (money, stopped) \n",
    "bad_sides = [i+1 for i in range(N) if isBadSide[i]]\n",
    "safe_sides = [i+1 for i in range(N) if not isBadSide[i]]\n",
    "floor = int(np.ceil( 1.0 * sum(safe_sides)/N / (1-1. * len(safe_sides) /N)))\n",
    "total_states = floor + N + 2\n",
    "actions = ['C','S']\n",
    "transition = []\n",
    "prob = 1.0 / N\n",
    "fail_prob = 1. *len(bad_sides) / N\n",
    "t1 = np.zeros([total_states, total_states])\n",
    "for i in range(floor+1):\n",
    "    for j in safe_sides:\n",
    "        t1[i][i+j] = prob\n",
    "    t1[i][total_states-1] = fail_prob \n",
    "    \n",
    "for i in range(floor+1, total_states):\n",
    "    t1[i][total_states-1] = 1\n",
    "\n",
    "t2 = np.zeros([total_states, total_states])\n",
    "for i in range(total_states):\n",
    "    t2[i][total_states-1] = 1\n",
    "\n",
    "transitions = [t1, t2]\n",
    "reward = np.zeros([total_states, 2])\n",
    "for i in np.arange(floor+1):\n",
    "    reward[i][0] = 0\n",
    "    reward[i][1] = i\n",
    "for i in range(floor+1, total_states-1):\n",
    "    reward[i][0] = reward[i][1] = i\n",
    "    \n",
    "\n",
    "discount =1 \n",
    "epsilon = 1e-5\n",
    "maxiter = 1000\n",
    "\n",
    "\n",
    "valiter = mdptoolbox.mdp.ValueIteration(transitions, reward, discount,epsilon, maxiter, list(reward[:,1]))\n",
    "valiter.run()\n",
    "valiter.V[0]"
   ]
  },
  {
   "cell_type": "code",
   "execution_count": null,
   "metadata": {
    "collapsed": true
   },
   "outputs": [],
   "source": []
  },
  {
   "cell_type": "code",
   "execution_count": null,
   "metadata": {
    "collapsed": true
   },
   "outputs": [],
   "source": []
  },
  {
   "cell_type": "code",
   "execution_count": null,
   "metadata": {
    "collapsed": true
   },
   "outputs": [],
   "source": []
  },
  {
   "cell_type": "code",
   "execution_count": null,
   "metadata": {
    "collapsed": true
   },
   "outputs": [],
   "source": []
  },
  {
   "cell_type": "code",
   "execution_count": null,
   "metadata": {
    "collapsed": true
   },
   "outputs": [],
   "source": []
  },
  {
   "cell_type": "code",
   "execution_count": null,
   "metadata": {
    "collapsed": true
   },
   "outputs": [],
   "source": []
  },
  {
   "cell_type": "code",
   "execution_count": null,
   "metadata": {
    "collapsed": true
   },
   "outputs": [],
   "source": []
  },
  {
   "cell_type": "code",
   "execution_count": null,
   "metadata": {
    "collapsed": true
   },
   "outputs": [],
   "source": []
  },
  {
   "cell_type": "code",
   "execution_count": null,
   "metadata": {
    "collapsed": true
   },
   "outputs": [],
   "source": []
  },
  {
   "cell_type": "code",
   "execution_count": null,
   "metadata": {
    "collapsed": true
   },
   "outputs": [],
   "source": []
  }
 ],
 "metadata": {
  "kernelspec": {
   "display_name": "Python 2",
   "language": "python",
   "name": "python2"
  },
  "language_info": {
   "codemirror_mode": {
    "name": "ipython",
    "version": 2
   },
   "file_extension": ".py",
   "mimetype": "text/x-python",
   "name": "python",
   "nbconvert_exporter": "python",
   "pygments_lexer": "ipython2",
   "version": "2.7.13"
  }
 },
 "nbformat": 4,
 "nbformat_minor": 2
}
